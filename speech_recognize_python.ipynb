{
  "nbformat": 4,
  "nbformat_minor": 0,
  "metadata": {
    "colab": {
      "name": "speech_recognize_python.ipynb",
      "provenance": [],
      "collapsed_sections": [],
      "mount_file_id": "1YigC2mLXLHDtIWG-tr4kGnGKBrPDJtVp",
      "authorship_tag": "ABX9TyN/Zu0zVHc16p1nOUUkNRX7",
      "include_colab_link": true
    },
    "kernelspec": {
      "name": "python3",
      "display_name": "Python 3"
    },
    "language_info": {
      "name": "python"
    }
  },
  "cells": [
    {
      "cell_type": "markdown",
      "metadata": {
        "id": "view-in-github",
        "colab_type": "text"
      },
      "source": [
        "<a href=\"https://colab.research.google.com/github/Yadukrishnan1/NLP/blob/main/speech_recognize_python.ipynb\" target=\"_parent\"><img src=\"https://colab.research.google.com/assets/colab-badge.svg\" alt=\"Open In Colab\"/></a>"
      ]
    },
    {
      "cell_type": "code",
      "metadata": {
        "colab": {
          "base_uri": "https://localhost:8080/"
        },
        "id": "zlap7A9PcyTv",
        "outputId": "20e2ab2f-c108-4f3c-d012-bda7adc93478"
      },
      "source": [
        "!pip install SpeechRecognition\n",
        "!pip install gtts"
      ],
      "execution_count": 1,
      "outputs": [
        {
          "output_type": "stream",
          "text": [
            "Collecting SpeechRecognition\n",
            "\u001b[?25l  Downloading https://files.pythonhosted.org/packages/26/e1/7f5678cd94ec1234269d23756dbdaa4c8cfaed973412f88ae8adf7893a50/SpeechRecognition-3.8.1-py2.py3-none-any.whl (32.8MB)\n",
            "\u001b[K     |████████████████████████████████| 32.8MB 115kB/s \n",
            "\u001b[?25hInstalling collected packages: SpeechRecognition\n",
            "Successfully installed SpeechRecognition-3.8.1\n",
            "Collecting gtts\n",
            "  Downloading https://files.pythonhosted.org/packages/5f/b9/94e59337107be134b21ce395a29fc0715b707b560108d6797de2d93e1178/gTTS-2.2.2-py3-none-any.whl\n",
            "Requirement already satisfied: click in /usr/local/lib/python3.7/dist-packages (from gtts) (7.1.2)\n",
            "Requirement already satisfied: six in /usr/local/lib/python3.7/dist-packages (from gtts) (1.15.0)\n",
            "Requirement already satisfied: requests in /usr/local/lib/python3.7/dist-packages (from gtts) (2.23.0)\n",
            "Requirement already satisfied: certifi>=2017.4.17 in /usr/local/lib/python3.7/dist-packages (from requests->gtts) (2020.12.5)\n",
            "Requirement already satisfied: idna<3,>=2.5 in /usr/local/lib/python3.7/dist-packages (from requests->gtts) (2.10)\n",
            "Requirement already satisfied: chardet<4,>=3.0.2 in /usr/local/lib/python3.7/dist-packages (from requests->gtts) (3.0.4)\n",
            "Requirement already satisfied: urllib3!=1.25.0,!=1.25.1,<1.26,>=1.21.1 in /usr/local/lib/python3.7/dist-packages (from requests->gtts) (1.24.3)\n",
            "Installing collected packages: gtts\n",
            "Successfully installed gtts-2.2.2\n"
          ],
          "name": "stdout"
        }
      ]
    },
    {
      "cell_type": "code",
      "metadata": {
        "id": "dLaeZZhVbg1n"
      },
      "source": [
        "#import speech recognition library from Python\n",
        "import numpy as np\n",
        "import speech_recognition as sr\n",
        "\n",
        "# Recognizer class initiated from 'speech_recognition' package\n",
        "\n",
        "recognizer = sr.Recognizer()\n",
        "\n",
        "# Converting to text using recognizer\n",
        "\n",
        "with sr.AudioFile('/content/drive/MyDrive/Colab Notebooks/NLP/male.wav') as audio:\n",
        "    \n",
        "    converted_text = recognizer.listen(audio)\n",
        "    output = recognizer.recognize_google(converted_text)\n",
        "\n",
        "# Saving to a text file\n",
        "    male_txt = open(\"/content/drive/MyDrive/Colab Notebooks/NLP/output.txt\", \"w\")\n",
        "    male_txt.write(output)\n",
        "    male_txt.close()   "
      ],
      "execution_count": null,
      "outputs": []
    },
    {
      "cell_type": "code",
      "metadata": {
        "id": "xdxPXPmBeGPU"
      },
      "source": [
        "# gTTS (Google Text-to-Speech), a Python library and CLI tool to interface with Google Translate's text-to-speech API.\n",
        "\n",
        "from gtts import gTTS \n",
        "\n",
        "your_text = \"I am reading this from a text file! Natural language processing is fun!!\"\n",
        "\n",
        "audio = gTTS(text = your_text, lang = 'en')\n",
        "\n",
        "audio.save('/content/drive/MyDrive/Colab Notebooks/NLP/text2audio.mp3')"
      ],
      "execution_count": 14,
      "outputs": []
    }
  ]
}