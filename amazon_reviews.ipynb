{
  "nbformat": 4,
  "nbformat_minor": 0,
  "metadata": {
    "colab": {
      "name": "amazon_reviews.ipynb",
      "provenance": [],
      "collapsed_sections": [],
      "mount_file_id": "1EGquvtSLfTpqvKfLqt4uh5Io60VdvI08",
      "authorship_tag": "ABX9TyPjty323Pn1z/FrY3oBAURI",
      "include_colab_link": true
    },
    "kernelspec": {
      "display_name": "Python 3",
      "name": "python3"
    },
    "language_info": {
      "name": "python"
    }
  },
  "cells": [
    {
      "cell_type": "markdown",
      "metadata": {
        "id": "view-in-github",
        "colab_type": "text"
      },
      "source": [
        "<a href=\"https://colab.research.google.com/github/Yadukrishnan1/NLP/blob/main/amazon_reviews.ipynb\" target=\"_parent\"><img src=\"https://colab.research.google.com/assets/colab-badge.svg\" alt=\"Open In Colab\"/></a>"
      ]
    },
    {
      "cell_type": "code",
      "metadata": {
        "id": "T6gAVNNt3ieD"
      },
      "source": [
        "# Adopted to edit and play around from https://mungingdata.wordpress.com/"
      ],
      "execution_count": 90,
      "outputs": []
    },
    {
      "cell_type": "code",
      "metadata": {
        "colab": {
          "base_uri": "https://localhost:8080/"
        },
        "id": "iTuD4VJUiBpO",
        "outputId": "4403f382-b13d-46fb-c538-29839a9c1512"
      },
      "source": [
        "! pip install fasttext;\n",
        "! pip install numpy_ml;"
      ],
      "execution_count": null,
      "outputs": [
        {
          "output_type": "stream",
          "text": [
            "Collecting fasttext\n",
            "\u001b[?25l  Downloading https://files.pythonhosted.org/packages/f8/85/e2b368ab6d3528827b147fdb814f8189acc981a4bc2f99ab894650e05c40/fasttext-0.9.2.tar.gz (68kB)\n",
            "\r\u001b[K     |████▊                           | 10kB 22.5MB/s eta 0:00:01\r\u001b[K     |█████████▌                      | 20kB 29.4MB/s eta 0:00:01\r\u001b[K     |██████████████▎                 | 30kB 24.5MB/s eta 0:00:01\r\u001b[K     |███████████████████             | 40kB 28.1MB/s eta 0:00:01\r\u001b[K     |███████████████████████▉        | 51kB 24.9MB/s eta 0:00:01\r\u001b[K     |████████████████████████████▋   | 61kB 27.3MB/s eta 0:00:01\r\u001b[K     |████████████████████████████████| 71kB 8.0MB/s \n",
            "\u001b[?25hRequirement already satisfied: pybind11>=2.2 in /usr/local/lib/python3.7/dist-packages (from fasttext) (2.6.2)\n",
            "Requirement already satisfied: setuptools>=0.7.0 in /usr/local/lib/python3.7/dist-packages (from fasttext) (56.0.0)\n",
            "Requirement already satisfied: numpy in /usr/local/lib/python3.7/dist-packages (from fasttext) (1.19.5)\n",
            "Building wheels for collected packages: fasttext\n",
            "  Building wheel for fasttext (setup.py) ... \u001b[?25l\u001b[?25hdone\n",
            "  Created wheel for fasttext: filename=fasttext-0.9.2-cp37-cp37m-linux_x86_64.whl size=3092486 sha256=bb57b1715f2cf5289c76ef52a510f2c44bfd0e7ef45b7a2cf1f06a998e068fd4\n",
            "  Stored in directory: /root/.cache/pip/wheels/98/ba/7f/b154944a1cf5a8cee91c154b75231136cc3a3321ab0e30f592\n",
            "Successfully built fasttext\n",
            "Installing collected packages: fasttext\n",
            "Successfully installed fasttext-0.9.2\n",
            "Collecting numpy_ml\n",
            "\u001b[?25l  Downloading https://files.pythonhosted.org/packages/77/3b/cd1697224bc9b417dc36b36fe1c7ab6502770164b270c014022a824adbbb/numpy_ml-0.1.2-py2.py3-none-any.whl (239kB)\n",
            "\u001b[K     |████████████████████████████████| 245kB 19.3MB/s \n",
            "\u001b[?25hRequirement already satisfied: numpy in /usr/local/lib/python3.7/dist-packages (from numpy_ml) (1.19.5)\n",
            "Requirement already satisfied: scipy in /usr/local/lib/python3.7/dist-packages (from numpy_ml) (1.4.1)\n",
            "Installing collected packages: numpy-ml\n",
            "Successfully installed numpy-ml-0.1.2\n"
          ],
          "name": "stdout"
        }
      ]
    },
    {
      "cell_type": "code",
      "metadata": {
        "id": "yQIzvfE-heqx"
      },
      "source": [
        "import numpy as np # linear algebra\n",
        "import pandas as pd # data processing, CSV file I/O (e.g. pd.read_csv)\n",
        "import fasttext\n",
        "import bz2\n",
        "import csv\n",
        "from sklearn.metrics import roc_auc_score\n",
        "import os"
      ],
      "execution_count": null,
      "outputs": []
    },
    {
      "cell_type": "code",
      "metadata": {
        "colab": {
          "base_uri": "https://localhost:8080/"
        },
        "id": "2ItMvZLl1YlF",
        "outputId": "c486b85c-7145-4b2b-8fb1-199d646ca7aa"
      },
      "source": [
        "print(os.listdir(\"/content/drive/MyDrive/Colab Notebooks/Natural_lang_process/\"))"
      ],
      "execution_count": null,
      "outputs": [
        {
          "output_type": "stream",
          "text": [
            "['amazon_reviews.ipynb', 'test.ft.txt', 'train.ft.txt']\n"
          ],
          "name": "stdout"
        }
      ]
    },
    {
      "cell_type": "code",
      "metadata": {
        "id": "dcrWUUt3YMTX"
      },
      "source": [
        "myfile = open(\"/content/drive/MyDrive/Colab Notebooks/Natural_lang_process/train.ft.txt\",\"r\")\n",
        "data = myfile.readlines()\n",
        "print(len(data), 'number of records in the training set') \n",
        "\n",
        "data_df = pd.DataFrame(data)\n",
        "data_df.to_csv(\"train.txt\", index=False, sep=' ', header=False, quoting=csv.QUOTE_NONE, quotechar=\"\", escapechar=\" \")"
      ],
      "execution_count": null,
      "outputs": []
    },
    {
      "cell_type": "code",
      "metadata": {
        "colab": {
          "base_uri": "https://localhost:8080/",
          "height": 220
        },
        "id": "m3n_0ZWjm86-",
        "outputId": "710c28b9-2903-4f37-ad03-0cca298b9980"
      },
      "source": [
        "data_df.loc[:5]"
      ],
      "execution_count": null,
      "outputs": [
        {
          "output_type": "execute_result",
          "data": {
            "text/html": [
              "<div>\n",
              "<style scoped>\n",
              "    .dataframe tbody tr th:only-of-type {\n",
              "        vertical-align: middle;\n",
              "    }\n",
              "\n",
              "    .dataframe tbody tr th {\n",
              "        vertical-align: top;\n",
              "    }\n",
              "\n",
              "    .dataframe thead th {\n",
              "        text-align: right;\n",
              "    }\n",
              "</style>\n",
              "<table border=\"1\" class=\"dataframe\">\n",
              "  <thead>\n",
              "    <tr style=\"text-align: right;\">\n",
              "      <th></th>\n",
              "      <th>0</th>\n",
              "    </tr>\n",
              "  </thead>\n",
              "  <tbody>\n",
              "    <tr>\n",
              "      <th>0</th>\n",
              "      <td>__label__2 Stuning even for the non-gamer: Thi...</td>\n",
              "    </tr>\n",
              "    <tr>\n",
              "      <th>1</th>\n",
              "      <td>__label__2 The best soundtrack ever to anythin...</td>\n",
              "    </tr>\n",
              "    <tr>\n",
              "      <th>2</th>\n",
              "      <td>__label__2 Amazing!: This soundtrack is my fav...</td>\n",
              "    </tr>\n",
              "    <tr>\n",
              "      <th>3</th>\n",
              "      <td>__label__2 Excellent Soundtrack: I truly like ...</td>\n",
              "    </tr>\n",
              "    <tr>\n",
              "      <th>4</th>\n",
              "      <td>__label__2 Remember, Pull Your Jaw Off The Flo...</td>\n",
              "    </tr>\n",
              "    <tr>\n",
              "      <th>5</th>\n",
              "      <td>__label__2 an absolute masterpiece: I am quite...</td>\n",
              "    </tr>\n",
              "  </tbody>\n",
              "</table>\n",
              "</div>"
            ],
            "text/plain": [
              "                                                   0\n",
              "0  __label__2 Stuning even for the non-gamer: Thi...\n",
              "1  __label__2 The best soundtrack ever to anythin...\n",
              "2  __label__2 Amazing!: This soundtrack is my fav...\n",
              "3  __label__2 Excellent Soundtrack: I truly like ...\n",
              "4  __label__2 Remember, Pull Your Jaw Off The Flo...\n",
              "5  __label__2 an absolute masterpiece: I am quite..."
            ]
          },
          "metadata": {
            "tags": []
          },
          "execution_count": 7
        }
      ]
    },
    {
      "cell_type": "code",
      "metadata": {
        "colab": {
          "base_uri": "https://localhost:8080/"
        },
        "id": "JgH_CLrikM2S",
        "outputId": "7214184b-a183-434e-9ee0-217894be6179"
      },
      "source": [
        "# Modelling\n",
        "# This routine takes about 5 to 10 minutes \n",
        "model = fasttext.train_supervised('train.txt',label_prefix='__label__', thread=5, epoch = 5)\n",
        "print(model.labels, 'are the labels or targets the model is predicting')"
      ],
      "execution_count": 81,
      "outputs": [
        {
          "output_type": "stream",
          "text": [
            "['__label__1', '__label__2'] are the labels or targets the model is predicting\n"
          ],
          "name": "stdout"
        }
      ]
    },
    {
      "cell_type": "code",
      "metadata": {
        "id": "2UP6FRqCmx4o",
        "colab": {
          "base_uri": "https://localhost:8080/"
        },
        "outputId": "e95dd8d4-2b86-4d62-f642-c553251f0fde"
      },
      "source": [
        "myfile = open(\"/content/drive/MyDrive/Colab Notebooks/Natural_lang_process/test.ft.txt\",\"r\")\n",
        "test = myfile.readlines()\n",
        "print(len(test), 'number of records in the test set') "
      ],
      "execution_count": 82,
      "outputs": [
        {
          "output_type": "stream",
          "text": [
            "400000 number of records in the test set\n"
          ],
          "name": "stdout"
        }
      ]
    },
    {
      "cell_type": "code",
      "metadata": {
        "id": "4TUFHzY-myYC"
      },
      "source": [
        "new = [w.replace('__label__2 ', '') for w in test]\n",
        "new = [w.replace('__label__1 ', '') for w in new]\n",
        "new = [w.replace('\\n', '') for w in new]\n",
        "\n",
        "# Use the predict function \n",
        "pred = model.predict(new)"
      ],
      "execution_count": 83,
      "outputs": []
    },
    {
      "cell_type": "code",
      "metadata": {
        "colab": {
          "base_uri": "https://localhost:8080/"
        },
        "id": "1b2P7BxRr9l2",
        "outputId": "eae1a097-5f11-4d2e-d093-fa2086f06d12"
      },
      "source": [
        "# check the first record outputs\n",
        "print(pred[0][1][0], 'is the predicted label with', end=' ')\n",
        "print(pred[1][1][0], 'as the probability score.')"
      ],
      "execution_count": 88,
      "outputs": [
        {
          "output_type": "stream",
          "text": [
            "__label__2 is the predicted label with 0.9679004 as the probability score\n"
          ],
          "name": "stdout"
        }
      ]
    },
    {
      "cell_type": "code",
      "metadata": {
        "colab": {
          "base_uri": "https://localhost:8080/"
        },
        "id": "aRS_kMzytNhv",
        "outputId": "8362ad55-c2df-4b54-c9c8-48a9cd3d9dd7"
      },
      "source": [
        "# Lets recode the actual targets to 1's and 0's from both the test set and the actual predictions  \n",
        "labels = [0 if x.split(' ')[0] == '__label__1' else 1 for x in test]\n",
        "pred_labels = [0 if x == ['__label__1'] else 1 for x in pred[0]]\n",
        "\n",
        "# run the accuracy measure. \n",
        "print(roc_auc_score(labels, pred_labels))"
      ],
      "execution_count": 85,
      "outputs": [
        {
          "output_type": "stream",
          "text": [
            "0.9160275\n"
          ],
          "name": "stdout"
        }
      ]
    }
  ]
}