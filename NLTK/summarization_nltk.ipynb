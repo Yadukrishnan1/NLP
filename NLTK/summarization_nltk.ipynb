{
  "nbformat": 4,
  "nbformat_minor": 0,
  "metadata": {
    "colab": {
      "name": "summarization_nltk.ipynb",
      "provenance": [],
      "mount_file_id": "https://github.com/Yadukrishnan1/NLP/blob/main/NLTK/summarization_nltk.ipynb",
      "authorship_tag": "ABX9TyORaXJ7JUX6Qk9IWlxIUCCH",
      "include_colab_link": true
    },
    "kernelspec": {
      "name": "python3",
      "display_name": "Python 3"
    },
    "language_info": {
      "name": "python"
    }
  },
  "cells": [
    {
      "cell_type": "markdown",
      "metadata": {
        "id": "view-in-github",
        "colab_type": "text"
      },
      "source": [
        "<a href=\"https://colab.research.google.com/github/Yadukrishnan1/NLP/blob/main/NLTK/summarization_nltk.ipynb\" target=\"_parent\"><img src=\"https://colab.research.google.com/assets/colab-badge.svg\" alt=\"Open In Colab\"/></a>"
      ]
    },
    {
      "cell_type": "code",
      "source": [
        "PATH='/content/drive/MyDrive/Colab_Notebooks/NLP/Summarization'\n",
        "from google.colab import drive\n",
        "drive.mount('/content/gdrive')"
      ],
      "metadata": {
        "id": "ESXn6xgrqcGS",
        "colab": {
          "base_uri": "https://localhost:8080/"
        },
        "outputId": "1ea33751-dbfb-401f-d649-8394120e1217"
      },
      "execution_count": 2,
      "outputs": [
        {
          "output_type": "stream",
          "name": "stdout",
          "text": [
            "Mounted at /content/gdrive\n"
          ]
        }
      ]
    },
    {
      "cell_type": "code",
      "execution_count": 104,
      "metadata": {
        "id": "6qeXsNanqQ8t"
      },
      "outputs": [],
      "source": [
        "import numpy as np  \n",
        "import pandas as pd \n",
        "import re           \n",
        "from bs4 import BeautifulSoup \n",
        "from keras.preprocessing.text import Tokenizer \n",
        "from keras.preprocessing.sequence import pad_sequences\n",
        "from nltk.corpus import stopwords   \n",
        "from tensorflow.keras.layers import Input, LSTM, Embedding, Dense, Concatenate, TimeDistributed, Bidirectional\n",
        "from tensorflow.keras.models import Model\n",
        "from tensorflow.keras.callbacks import EarlyStopping\n",
        "import warnings\n",
        "\n",
        "pd.set_option(\"display.max_colwidth\", 200)\n",
        "warnings.filterwarnings(\"ignore\")"
      ]
    },
    {
      "cell_type": "code",
      "source": [
        "import nltk\n",
        "nltk.download('stopwords')"
      ],
      "metadata": {
        "colab": {
          "base_uri": "https://localhost:8080/"
        },
        "id": "RxhUImV30Fl8",
        "outputId": "f7f8e166-f141-4a78-bf3e-1bfaef512be1"
      },
      "execution_count": 105,
      "outputs": [
        {
          "output_type": "stream",
          "name": "stdout",
          "text": [
            "[nltk_data] Downloading package stopwords to /root/nltk_data...\n",
            "[nltk_data]   Package stopwords is already up-to-date!\n"
          ]
        },
        {
          "output_type": "execute_result",
          "data": {
            "text/plain": [
              "True"
            ]
          },
          "metadata": {},
          "execution_count": 105
        }
      ]
    },
    {
      "cell_type": "code",
      "source": [
        "! pip install keras-attention\n",
        "! pip install feedparser"
      ],
      "metadata": {
        "id": "fgQh9-zBye-S",
        "colab": {
          "base_uri": "https://localhost:8080/"
        },
        "outputId": "127919ac-168d-4d0f-bf07-90c25d0375a6"
      },
      "execution_count": 106,
      "outputs": [
        {
          "output_type": "stream",
          "name": "stdout",
          "text": [
            "Requirement already satisfied: keras-attention in /usr/local/lib/python3.7/dist-packages (1.0.0)\n",
            "Requirement already satisfied: keras in /usr/local/lib/python3.7/dist-packages (from keras-attention) (2.8.0)\n",
            "Requirement already satisfied: feedparser in /usr/local/lib/python3.7/dist-packages (6.0.8)\n",
            "Requirement already satisfied: sgmllib3k in /usr/local/lib/python3.7/dist-packages (from feedparser) (1.0.0)\n"
          ]
        }
      ]
    },
    {
      "cell_type": "code",
      "source": [
        "!ls /content/gdrive/MyDrive/Colab_Notebooks/NLP/Summarization/"
      ],
      "metadata": {
        "colab": {
          "base_uri": "https://localhost:8080/"
        },
        "id": "KbNAvTPGu26Z",
        "outputId": "3ba26e90-93f0-42e1-d7f5-b476d1b8bbe9"
      },
      "execution_count": null,
      "outputs": [
        {
          "output_type": "stream",
          "name": "stdout",
          "text": [
            "attention.py  summarization_nltk.ipynb\n"
          ]
        }
      ]
    },
    {
      "cell_type": "code",
      "source": [
        "\"\"\"\n",
        "python_arXiv_parsing\n",
        "\n",
        "Please see the documentation at \n",
        "http://export.arxiv.org/api_help/docs/user-manual.html\n",
        "\"\"\"\n",
        "\n",
        "import urllib\n",
        "import pandas as pd\n",
        "import feedparser\n",
        "\n",
        "# Base api query url\n",
        "base_url = 'http://export.arxiv.org/api/query?';\n",
        "\n",
        "# Search parameters\n",
        "search_query = 'all:economics' # search for electron in all fields\n",
        "start = 0                     # retreive the first 5 results\n",
        "max_results = 100\n",
        "\n",
        "query = 'search_query=%s&start=%i&max_results=%i' % (search_query,\n",
        "                                                     start,\n",
        "                                                     max_results)\n",
        "\n",
        "# Opensearch metadata such as totalResults, startIndex, \n",
        "# and itemsPerPage live in the opensearch namespase.\n",
        "# Some entry metadata lives in the arXiv namespace.\n",
        "# This is a hack to expose both of these namespaces in\n",
        "# feedparser v4.1\n",
        "\n",
        "# feedparser._FeedParserMixin.namespaces['http://a9.com/-/spec/opensearch/1.1/'] = 'opensearch'\n",
        "# feedparser._FeedParserMixin.namespaces['http://arxiv.org/schemas/atom'] = 'arxiv'\n",
        "\n",
        "# perform a GET request using the base_url and query\n",
        "response = urllib.request.urlopen(base_url+query).read()\n",
        "\n",
        "# parse the response using feedparser\n",
        "feed = feedparser.parse(response)\n",
        "\n",
        "# print out feed information\n",
        "# print ('Feed title: {}'.format(feed.feed.title))\n",
        "# print ('Feed last updated: {}'.format(feed.feed.updated))\n",
        "\n",
        "# print opensearch metadata\n",
        "# print ('totalResults for this query: {}'.format(feed.feed.opensearch_totalresults))\n",
        "# print ('itemsPerPage for this query: {}'.format(feed.feed.opensearch_itemsperpage))\n",
        "# print ('startIndex for this query: {}'  .format(feed.feed.opensearch_startindex))\n",
        "\n",
        "# Run through each entry, and print out information\n",
        "title_list=[]\n",
        "abstract_list=[]\n",
        "for entry in feed.entries:\n",
        "    title_list.append(entry.title)\n",
        "    \n",
        "    # The abstract is in the <summary> element\n",
        "    abstract_list.append(entry.summary)\n",
        "\n",
        "data = pd.DataFrame(list(zip(title_list, abstract_list)), columns=['title','abstract'])\n"
      ],
      "metadata": {
        "id": "74gIWtNruYpr"
      },
      "execution_count": 173,
      "outputs": []
    },
    {
      "cell_type": "code",
      "source": [
        "data.drop_duplicates(subset=['abstract', 'title'],inplace=True)  #dropping duplicates\n",
        "data.dropna(axis=0,inplace=True)   #dropping na"
      ],
      "metadata": {
        "id": "uId5linHy5LJ"
      },
      "execution_count": 174,
      "outputs": []
    },
    {
      "cell_type": "code",
      "source": [
        "data.head()"
      ],
      "metadata": {
        "colab": {
          "base_uri": "https://localhost:8080/",
          "height": 337
        },
        "id": "Z-_F1WOq2uBZ",
        "outputId": "88ede83d-1294-4776-f47d-9e1fc32d09af"
      },
      "execution_count": 175,
      "outputs": [
        {
          "output_type": "execute_result",
          "data": {
            "text/plain": [
              "                                                                                                                                                                                  title  \\\n",
              "0                                                                                                      The Link Between Standardization and Economic Growth: A Bibliometric\\n  Analysis   \n",
              "1                                                                                                                                       Business Cycles as Collective Risk Fluctuations   \n",
              "2                                                                                                                      Econophysics of Macroeconomics: \"Action-at-a-Distance\" and Waves   \n",
              "3                                                                                                                                                      Econophysics Macroeconomic Model   \n",
              "4  Economic prospects of the Russian-Chinese partnership in the logistics\\n  projects of the Eurasian Economic Union and the Silk Road Economic Belt: a\\n  scientific literature review   \n",
              "\n",
              "                                                                                                                                                                                                  abstract  \n",
              "0  We analyze the link between standardization and economic growth by\\nsystematically reviewing leading economics journals, leading economic growth\\nresearchers' articles, and economic growth-related...  \n",
              "1  We suggest use continuous numerical risk grades [0,1] of R for a single risk\\nor the unit cube in Rn for n risks as the economic domain. We consider risk\\nratings of economic agents as their coord...  \n",
              "2  We present macroeconomic model that describes evolution of macroeconomic\\nvariables and macroeconomic waves on economic space. Risk ratings of economic\\nagents play role of their coordinates on ec...  \n",
              "3  This paper presents macroeconomic model that is based on parallels between\\nmacroeconomic multi-agent systems and multi-particle systems. We use risk\\nratings of economic agents as their coordinat...  \n",
              "4  The authors of the article have reviewed the scientific literature on the\\ndevelopment of the Russian-Chinese cooperation in the field of combining\\neconomic and logistics projects of the Eurasian...  "
            ],
            "text/html": [
              "\n",
              "  <div id=\"df-1479220e-8a3c-48c7-a834-0d5f46901dd3\">\n",
              "    <div class=\"colab-df-container\">\n",
              "      <div>\n",
              "<style scoped>\n",
              "    .dataframe tbody tr th:only-of-type {\n",
              "        vertical-align: middle;\n",
              "    }\n",
              "\n",
              "    .dataframe tbody tr th {\n",
              "        vertical-align: top;\n",
              "    }\n",
              "\n",
              "    .dataframe thead th {\n",
              "        text-align: right;\n",
              "    }\n",
              "</style>\n",
              "<table border=\"1\" class=\"dataframe\">\n",
              "  <thead>\n",
              "    <tr style=\"text-align: right;\">\n",
              "      <th></th>\n",
              "      <th>title</th>\n",
              "      <th>abstract</th>\n",
              "    </tr>\n",
              "  </thead>\n",
              "  <tbody>\n",
              "    <tr>\n",
              "      <th>0</th>\n",
              "      <td>The Link Between Standardization and Economic Growth: A Bibliometric\\n  Analysis</td>\n",
              "      <td>We analyze the link between standardization and economic growth by\\nsystematically reviewing leading economics journals, leading economic growth\\nresearchers' articles, and economic growth-related...</td>\n",
              "    </tr>\n",
              "    <tr>\n",
              "      <th>1</th>\n",
              "      <td>Business Cycles as Collective Risk Fluctuations</td>\n",
              "      <td>We suggest use continuous numerical risk grades [0,1] of R for a single risk\\nor the unit cube in Rn for n risks as the economic domain. We consider risk\\nratings of economic agents as their coord...</td>\n",
              "    </tr>\n",
              "    <tr>\n",
              "      <th>2</th>\n",
              "      <td>Econophysics of Macroeconomics: \"Action-at-a-Distance\" and Waves</td>\n",
              "      <td>We present macroeconomic model that describes evolution of macroeconomic\\nvariables and macroeconomic waves on economic space. Risk ratings of economic\\nagents play role of their coordinates on ec...</td>\n",
              "    </tr>\n",
              "    <tr>\n",
              "      <th>3</th>\n",
              "      <td>Econophysics Macroeconomic Model</td>\n",
              "      <td>This paper presents macroeconomic model that is based on parallels between\\nmacroeconomic multi-agent systems and multi-particle systems. We use risk\\nratings of economic agents as their coordinat...</td>\n",
              "    </tr>\n",
              "    <tr>\n",
              "      <th>4</th>\n",
              "      <td>Economic prospects of the Russian-Chinese partnership in the logistics\\n  projects of the Eurasian Economic Union and the Silk Road Economic Belt: a\\n  scientific literature review</td>\n",
              "      <td>The authors of the article have reviewed the scientific literature on the\\ndevelopment of the Russian-Chinese cooperation in the field of combining\\neconomic and logistics projects of the Eurasian...</td>\n",
              "    </tr>\n",
              "  </tbody>\n",
              "</table>\n",
              "</div>\n",
              "      <button class=\"colab-df-convert\" onclick=\"convertToInteractive('df-1479220e-8a3c-48c7-a834-0d5f46901dd3')\"\n",
              "              title=\"Convert this dataframe to an interactive table.\"\n",
              "              style=\"display:none;\">\n",
              "        \n",
              "  <svg xmlns=\"http://www.w3.org/2000/svg\" height=\"24px\"viewBox=\"0 0 24 24\"\n",
              "       width=\"24px\">\n",
              "    <path d=\"M0 0h24v24H0V0z\" fill=\"none\"/>\n",
              "    <path d=\"M18.56 5.44l.94 2.06.94-2.06 2.06-.94-2.06-.94-.94-2.06-.94 2.06-2.06.94zm-11 1L8.5 8.5l.94-2.06 2.06-.94-2.06-.94L8.5 2.5l-.94 2.06-2.06.94zm10 10l.94 2.06.94-2.06 2.06-.94-2.06-.94-.94-2.06-.94 2.06-2.06.94z\"/><path d=\"M17.41 7.96l-1.37-1.37c-.4-.4-.92-.59-1.43-.59-.52 0-1.04.2-1.43.59L10.3 9.45l-7.72 7.72c-.78.78-.78 2.05 0 2.83L4 21.41c.39.39.9.59 1.41.59.51 0 1.02-.2 1.41-.59l7.78-7.78 2.81-2.81c.8-.78.8-2.07 0-2.86zM5.41 20L4 18.59l7.72-7.72 1.47 1.35L5.41 20z\"/>\n",
              "  </svg>\n",
              "      </button>\n",
              "      \n",
              "  <style>\n",
              "    .colab-df-container {\n",
              "      display:flex;\n",
              "      flex-wrap:wrap;\n",
              "      gap: 12px;\n",
              "    }\n",
              "\n",
              "    .colab-df-convert {\n",
              "      background-color: #E8F0FE;\n",
              "      border: none;\n",
              "      border-radius: 50%;\n",
              "      cursor: pointer;\n",
              "      display: none;\n",
              "      fill: #1967D2;\n",
              "      height: 32px;\n",
              "      padding: 0 0 0 0;\n",
              "      width: 32px;\n",
              "    }\n",
              "\n",
              "    .colab-df-convert:hover {\n",
              "      background-color: #E2EBFA;\n",
              "      box-shadow: 0px 1px 2px rgba(60, 64, 67, 0.3), 0px 1px 3px 1px rgba(60, 64, 67, 0.15);\n",
              "      fill: #174EA6;\n",
              "    }\n",
              "\n",
              "    [theme=dark] .colab-df-convert {\n",
              "      background-color: #3B4455;\n",
              "      fill: #D2E3FC;\n",
              "    }\n",
              "\n",
              "    [theme=dark] .colab-df-convert:hover {\n",
              "      background-color: #434B5C;\n",
              "      box-shadow: 0px 1px 3px 1px rgba(0, 0, 0, 0.15);\n",
              "      filter: drop-shadow(0px 1px 2px rgba(0, 0, 0, 0.3));\n",
              "      fill: #FFFFFF;\n",
              "    }\n",
              "  </style>\n",
              "\n",
              "      <script>\n",
              "        const buttonEl =\n",
              "          document.querySelector('#df-1479220e-8a3c-48c7-a834-0d5f46901dd3 button.colab-df-convert');\n",
              "        buttonEl.style.display =\n",
              "          google.colab.kernel.accessAllowed ? 'block' : 'none';\n",
              "\n",
              "        async function convertToInteractive(key) {\n",
              "          const element = document.querySelector('#df-1479220e-8a3c-48c7-a834-0d5f46901dd3');\n",
              "          const dataTable =\n",
              "            await google.colab.kernel.invokeFunction('convertToInteractive',\n",
              "                                                     [key], {});\n",
              "          if (!dataTable) return;\n",
              "\n",
              "          const docLinkHtml = 'Like what you see? Visit the ' +\n",
              "            '<a target=\"_blank\" href=https://colab.research.google.com/notebooks/data_table.ipynb>data table notebook</a>'\n",
              "            + ' to learn more about interactive tables.';\n",
              "          element.innerHTML = '';\n",
              "          dataTable['output_type'] = 'display_data';\n",
              "          await google.colab.output.renderOutput(dataTable, element);\n",
              "          const docLink = document.createElement('div');\n",
              "          docLink.innerHTML = docLinkHtml;\n",
              "          element.appendChild(docLink);\n",
              "        }\n",
              "      </script>\n",
              "    </div>\n",
              "  </div>\n",
              "  "
            ]
          },
          "metadata": {},
          "execution_count": 175
        }
      ]
    },
    {
      "cell_type": "code",
      "source": [
        "contraction_mapping = {\"ain't\": \"is not\", \"aren't\": \"are not\",\"can't\": \"cannot\", \"'cause\": \"because\", \"could've\": \"could have\", \"couldn't\": \"could not\",\n",
        "\n",
        "                           \"didn't\": \"did not\", \"doesn't\": \"does not\", \"don't\": \"do not\", \"hadn't\": \"had not\", \"hasn't\": \"has not\", \"haven't\": \"have not\",\n",
        "\n",
        "                           \"he'd\": \"he would\",\"he'll\": \"he will\", \"he's\": \"he is\", \"how'd\": \"how did\", \"how'd'y\": \"how do you\", \"how'll\": \"how will\", \"how's\": \"how is\",\n",
        "\n",
        "                           \"I'd\": \"I would\", \"I'd've\": \"I would have\", \"I'll\": \"I will\", \"I'll've\": \"I will have\",\"I'm\": \"I am\", \"I've\": \"I have\", \"i'd\": \"i would\",\n",
        "\n",
        "                           \"i'd've\": \"i would have\", \"i'll\": \"i will\",  \"i'll've\": \"i will have\",\"i'm\": \"i am\", \"i've\": \"i have\", \"isn't\": \"is not\", \"it'd\": \"it would\",\n",
        "\n",
        "                           \"it'd've\": \"it would have\", \"it'll\": \"it will\", \"it'll've\": \"it will have\",\"it's\": \"it is\", \"let's\": \"let us\", \"ma'am\": \"madam\",\n",
        "\n",
        "                           \"mayn't\": \"may not\", \"might've\": \"might have\",\"mightn't\": \"might not\",\"mightn't've\": \"might not have\", \"must've\": \"must have\",\n",
        "\n",
        "                           \"mustn't\": \"must not\", \"mustn't've\": \"must not have\", \"needn't\": \"need not\", \"needn't've\": \"need not have\",\"o'clock\": \"of the clock\",\n",
        "\n",
        "                           \"oughtn't\": \"ought not\", \"oughtn't've\": \"ought not have\", \"shan't\": \"shall not\", \"sha'n't\": \"shall not\", \"shan't've\": \"shall not have\",\n",
        "\n",
        "                           \"she'd\": \"she would\", \"she'd've\": \"she would have\", \"she'll\": \"she will\", \"she'll've\": \"she will have\", \"she's\": \"she is\",\n",
        "\n",
        "                           \"should've\": \"should have\", \"shouldn't\": \"should not\", \"shouldn't've\": \"should not have\", \"so've\": \"so have\",\"so's\": \"so as\",\n",
        "\n",
        "                           \"this's\": \"this is\",\"that'd\": \"that would\", \"that'd've\": \"that would have\", \"that's\": \"that is\", \"there'd\": \"there would\",\n",
        "\n",
        "                           \"there'd've\": \"there would have\", \"there's\": \"there is\", \"here's\": \"here is\",\"they'd\": \"they would\", \"they'd've\": \"they would have\",\n",
        "\n",
        "                           \"they'll\": \"they will\", \"they'll've\": \"they will have\", \"they're\": \"they are\", \"they've\": \"they have\", \"to've\": \"to have\",\n",
        "\n",
        "                           \"wasn't\": \"was not\", \"we'd\": \"we would\", \"we'd've\": \"we would have\", \"we'll\": \"we will\", \"we'll've\": \"we will have\", \"we're\": \"we are\",\n",
        "\n",
        "                           \"we've\": \"we have\", \"weren't\": \"were not\", \"what'll\": \"what will\", \"what'll've\": \"what will have\", \"what're\": \"what are\",\n",
        "\n",
        "                           \"what's\": \"what is\", \"what've\": \"what have\", \"when's\": \"when is\", \"when've\": \"when have\", \"where'd\": \"where did\", \"where's\": \"where is\",\n",
        "\n",
        "                           \"where've\": \"where have\", \"who'll\": \"who will\", \"who'll've\": \"who will have\", \"who's\": \"who is\", \"who've\": \"who have\",\n",
        "\n",
        "                           \"why's\": \"why is\", \"why've\": \"why have\", \"will've\": \"will have\", \"won't\": \"will not\", \"won't've\": \"will not have\",\n",
        "\n",
        "                           \"would've\": \"would have\", \"wouldn't\": \"would not\", \"wouldn't've\": \"would not have\", \"y'all\": \"you all\",\n",
        "\n",
        "                           \"y'all'd\": \"you all would\",\"y'all'd've\": \"you all would have\",\"y'all're\": \"you all are\",\"y'all've\": \"you all have\",\n",
        "\n",
        "                           \"you'd\": \"you would\", \"you'd've\": \"you would have\", \"you'll\": \"you will\", \"you'll've\": \"you will have\",\n",
        "\n",
        "                           \"you're\": \"you are\", \"you've\": \"you have\"}"
      ],
      "metadata": {
        "id": "RiIQx-gPzI8w"
      },
      "execution_count": 176,
      "outputs": []
    },
    {
      "cell_type": "markdown",
      "source": [
        "Cleaning of the Abstracts (long texts)"
      ],
      "metadata": {
        "id": "GRjt9KuS1muH"
      }
    },
    {
      "cell_type": "code",
      "source": [
        "stop_words = set(stopwords.words('english')) \n",
        "def abstract_cleaner(text):\n",
        "    newString = text.lower()\n",
        "    newString = BeautifulSoup(newString, \"lxml\").text\n",
        "    newString = re.sub(r'\\([^)]*\\)', '', newString)\n",
        "    newString = re.sub('\"','', newString)\n",
        "    newString = ' '.join([contraction_mapping[t] if t in contraction_mapping else t for t in newString.split(\" \")])    \n",
        "    newString = re.sub(r\"'s\\b\",\"\",newString)\n",
        "    newString = re.sub(\"[^a-zA-Z]\", \" \", newString) \n",
        "    tokens = [w for w in newString.split() if not w in stop_words]\n",
        "    long_words=[]\n",
        "    for i in tokens:\n",
        "        if len(i)>=3:                  #removing short word\n",
        "            long_words.append(i)   \n",
        "    return (\" \".join(long_words)).strip()\n",
        "\n",
        "cleaned_abstract = []\n",
        "for t in data['abstract']:\n",
        "    cleaned_abstract.append(abstract_cleaner(t))"
      ],
      "metadata": {
        "id": "PlT58Vq3z6fw"
      },
      "execution_count": 177,
      "outputs": []
    },
    {
      "cell_type": "code",
      "source": [
        "def title_cleaner(text):\n",
        "    newString = re.sub('\"','', text)\n",
        "    newString = ' '.join([contraction_mapping[t] if t in contraction_mapping else t for t in newString.split(\" \")])    \n",
        "    newString = re.sub(r\"'s\\b\",\"\",newString)\n",
        "    newString = re.sub(\"[^a-zA-Z]\", \" \", newString)\n",
        "    newString = newString.lower()\n",
        "    tokens=newString.split()\n",
        "    newString=''\n",
        "    for i in tokens:\n",
        "        if len(i)>1:                                 \n",
        "            newString=newString+i+' '  \n",
        "    return newString\n",
        "\n",
        "#Call the above function\n",
        "cleaned_title = []\n",
        "for t in data['title']:\n",
        "    cleaned_title.append(title_cleaner(t))\n"
      ],
      "metadata": {
        "id": "VuRk5Bry107F"
      },
      "execution_count": 178,
      "outputs": []
    },
    {
      "cell_type": "code",
      "source": [
        "data['cleaned_abstract']=cleaned_abstract\n",
        "data['cleaned_title']=cleaned_title\n",
        "data['cleaned_title'].replace('', np.nan, inplace=True)\n",
        "data.dropna(axis=0,inplace=True)"
      ],
      "metadata": {
        "id": "fA-u17vz2AhF"
      },
      "execution_count": 179,
      "outputs": []
    },
    {
      "cell_type": "code",
      "source": [
        "data.head()"
      ],
      "metadata": {
        "colab": {
          "base_uri": "https://localhost:8080/",
          "height": 423
        },
        "id": "DfNoWNb_2Ktp",
        "outputId": "68c0875f-11a1-45f6-ce46-206fe6d82324"
      },
      "execution_count": 180,
      "outputs": [
        {
          "output_type": "execute_result",
          "data": {
            "text/plain": [
              "                                                                                                                                                                                  title  \\\n",
              "0                                                                                                      The Link Between Standardization and Economic Growth: A Bibliometric\\n  Analysis   \n",
              "1                                                                                                                                       Business Cycles as Collective Risk Fluctuations   \n",
              "2                                                                                                                      Econophysics of Macroeconomics: \"Action-at-a-Distance\" and Waves   \n",
              "3                                                                                                                                                      Econophysics Macroeconomic Model   \n",
              "4  Economic prospects of the Russian-Chinese partnership in the logistics\\n  projects of the Eurasian Economic Union and the Silk Road Economic Belt: a\\n  scientific literature review   \n",
              "\n",
              "                                                                                                                                                                                                  abstract  \\\n",
              "0  We analyze the link between standardization and economic growth by\\nsystematically reviewing leading economics journals, leading economic growth\\nresearchers' articles, and economic growth-related...   \n",
              "1  We suggest use continuous numerical risk grades [0,1] of R for a single risk\\nor the unit cube in Rn for n risks as the economic domain. We consider risk\\nratings of economic agents as their coord...   \n",
              "2  We present macroeconomic model that describes evolution of macroeconomic\\nvariables and macroeconomic waves on economic space. Risk ratings of economic\\nagents play role of their coordinates on ec...   \n",
              "3  This paper presents macroeconomic model that is based on parallels between\\nmacroeconomic multi-agent systems and multi-particle systems. We use risk\\nratings of economic agents as their coordinat...   \n",
              "4  The authors of the article have reviewed the scientific literature on the\\ndevelopment of the Russian-Chinese cooperation in the field of combining\\neconomic and logistics projects of the Eurasian...   \n",
              "\n",
              "                                                                                                                                                                                          cleaned_abstract  \\\n",
              "0  analyze link standardization economic growth systematically reviewing leading economics journals leading economic growth researchers articles economic growth related books make following observati...   \n",
              "1  suggest use continuous numerical risk grades single risk unit cube risks economic domain consider risk ratings economic agents coordinates economic domain economic activity agents economic factors...   \n",
              "2  present macroeconomic model describes evolution macroeconomic variables macroeconomic waves economic space risk ratings economic agents play role coordinates economic space aggregation economic va...   \n",
              "3  paper presents macroeconomic model based parallels macroeconomic multi agent systems multi particle systems use risk ratings economic agents coordinates economic space aggregates economic financia...   \n",
              "4  authors article reviewed scientific literature development russian chinese cooperation field combining economic logistics projects eurasian economic union silk road economic belt opinions russian ...   \n",
              "\n",
              "                                                                                                                                                                  cleaned_title  \n",
              "0                                                                                                   the link between standardization and economic growth bibliometric analysis   \n",
              "1                                                                                                                              business cycles as collective risk fluctuations   \n",
              "2                                                                                                                  econophysics of macroeconomics action at distance and waves   \n",
              "3                                                                                                                                             econophysics macroeconomic model   \n",
              "4  economic prospects of the russian chinese partnership in the logistics projects of the eurasian economic union and the silk road economic belt scientific literature review   "
            ],
            "text/html": [
              "\n",
              "  <div id=\"df-7c7193c6-86b8-4474-a8a9-64fea5f1ef33\">\n",
              "    <div class=\"colab-df-container\">\n",
              "      <div>\n",
              "<style scoped>\n",
              "    .dataframe tbody tr th:only-of-type {\n",
              "        vertical-align: middle;\n",
              "    }\n",
              "\n",
              "    .dataframe tbody tr th {\n",
              "        vertical-align: top;\n",
              "    }\n",
              "\n",
              "    .dataframe thead th {\n",
              "        text-align: right;\n",
              "    }\n",
              "</style>\n",
              "<table border=\"1\" class=\"dataframe\">\n",
              "  <thead>\n",
              "    <tr style=\"text-align: right;\">\n",
              "      <th></th>\n",
              "      <th>title</th>\n",
              "      <th>abstract</th>\n",
              "      <th>cleaned_abstract</th>\n",
              "      <th>cleaned_title</th>\n",
              "    </tr>\n",
              "  </thead>\n",
              "  <tbody>\n",
              "    <tr>\n",
              "      <th>0</th>\n",
              "      <td>The Link Between Standardization and Economic Growth: A Bibliometric\\n  Analysis</td>\n",
              "      <td>We analyze the link between standardization and economic growth by\\nsystematically reviewing leading economics journals, leading economic growth\\nresearchers' articles, and economic growth-related...</td>\n",
              "      <td>analyze link standardization economic growth systematically reviewing leading economics journals leading economic growth researchers articles economic growth related books make following observati...</td>\n",
              "      <td>the link between standardization and economic growth bibliometric analysis</td>\n",
              "    </tr>\n",
              "    <tr>\n",
              "      <th>1</th>\n",
              "      <td>Business Cycles as Collective Risk Fluctuations</td>\n",
              "      <td>We suggest use continuous numerical risk grades [0,1] of R for a single risk\\nor the unit cube in Rn for n risks as the economic domain. We consider risk\\nratings of economic agents as their coord...</td>\n",
              "      <td>suggest use continuous numerical risk grades single risk unit cube risks economic domain consider risk ratings economic agents coordinates economic domain economic activity agents economic factors...</td>\n",
              "      <td>business cycles as collective risk fluctuations</td>\n",
              "    </tr>\n",
              "    <tr>\n",
              "      <th>2</th>\n",
              "      <td>Econophysics of Macroeconomics: \"Action-at-a-Distance\" and Waves</td>\n",
              "      <td>We present macroeconomic model that describes evolution of macroeconomic\\nvariables and macroeconomic waves on economic space. Risk ratings of economic\\nagents play role of their coordinates on ec...</td>\n",
              "      <td>present macroeconomic model describes evolution macroeconomic variables macroeconomic waves economic space risk ratings economic agents play role coordinates economic space aggregation economic va...</td>\n",
              "      <td>econophysics of macroeconomics action at distance and waves</td>\n",
              "    </tr>\n",
              "    <tr>\n",
              "      <th>3</th>\n",
              "      <td>Econophysics Macroeconomic Model</td>\n",
              "      <td>This paper presents macroeconomic model that is based on parallels between\\nmacroeconomic multi-agent systems and multi-particle systems. We use risk\\nratings of economic agents as their coordinat...</td>\n",
              "      <td>paper presents macroeconomic model based parallels macroeconomic multi agent systems multi particle systems use risk ratings economic agents coordinates economic space aggregates economic financia...</td>\n",
              "      <td>econophysics macroeconomic model</td>\n",
              "    </tr>\n",
              "    <tr>\n",
              "      <th>4</th>\n",
              "      <td>Economic prospects of the Russian-Chinese partnership in the logistics\\n  projects of the Eurasian Economic Union and the Silk Road Economic Belt: a\\n  scientific literature review</td>\n",
              "      <td>The authors of the article have reviewed the scientific literature on the\\ndevelopment of the Russian-Chinese cooperation in the field of combining\\neconomic and logistics projects of the Eurasian...</td>\n",
              "      <td>authors article reviewed scientific literature development russian chinese cooperation field combining economic logistics projects eurasian economic union silk road economic belt opinions russian ...</td>\n",
              "      <td>economic prospects of the russian chinese partnership in the logistics projects of the eurasian economic union and the silk road economic belt scientific literature review</td>\n",
              "    </tr>\n",
              "  </tbody>\n",
              "</table>\n",
              "</div>\n",
              "      <button class=\"colab-df-convert\" onclick=\"convertToInteractive('df-7c7193c6-86b8-4474-a8a9-64fea5f1ef33')\"\n",
              "              title=\"Convert this dataframe to an interactive table.\"\n",
              "              style=\"display:none;\">\n",
              "        \n",
              "  <svg xmlns=\"http://www.w3.org/2000/svg\" height=\"24px\"viewBox=\"0 0 24 24\"\n",
              "       width=\"24px\">\n",
              "    <path d=\"M0 0h24v24H0V0z\" fill=\"none\"/>\n",
              "    <path d=\"M18.56 5.44l.94 2.06.94-2.06 2.06-.94-2.06-.94-.94-2.06-.94 2.06-2.06.94zm-11 1L8.5 8.5l.94-2.06 2.06-.94-2.06-.94L8.5 2.5l-.94 2.06-2.06.94zm10 10l.94 2.06.94-2.06 2.06-.94-2.06-.94-.94-2.06-.94 2.06-2.06.94z\"/><path d=\"M17.41 7.96l-1.37-1.37c-.4-.4-.92-.59-1.43-.59-.52 0-1.04.2-1.43.59L10.3 9.45l-7.72 7.72c-.78.78-.78 2.05 0 2.83L4 21.41c.39.39.9.59 1.41.59.51 0 1.02-.2 1.41-.59l7.78-7.78 2.81-2.81c.8-.78.8-2.07 0-2.86zM5.41 20L4 18.59l7.72-7.72 1.47 1.35L5.41 20z\"/>\n",
              "  </svg>\n",
              "      </button>\n",
              "      \n",
              "  <style>\n",
              "    .colab-df-container {\n",
              "      display:flex;\n",
              "      flex-wrap:wrap;\n",
              "      gap: 12px;\n",
              "    }\n",
              "\n",
              "    .colab-df-convert {\n",
              "      background-color: #E8F0FE;\n",
              "      border: none;\n",
              "      border-radius: 50%;\n",
              "      cursor: pointer;\n",
              "      display: none;\n",
              "      fill: #1967D2;\n",
              "      height: 32px;\n",
              "      padding: 0 0 0 0;\n",
              "      width: 32px;\n",
              "    }\n",
              "\n",
              "    .colab-df-convert:hover {\n",
              "      background-color: #E2EBFA;\n",
              "      box-shadow: 0px 1px 2px rgba(60, 64, 67, 0.3), 0px 1px 3px 1px rgba(60, 64, 67, 0.15);\n",
              "      fill: #174EA6;\n",
              "    }\n",
              "\n",
              "    [theme=dark] .colab-df-convert {\n",
              "      background-color: #3B4455;\n",
              "      fill: #D2E3FC;\n",
              "    }\n",
              "\n",
              "    [theme=dark] .colab-df-convert:hover {\n",
              "      background-color: #434B5C;\n",
              "      box-shadow: 0px 1px 3px 1px rgba(0, 0, 0, 0.15);\n",
              "      filter: drop-shadow(0px 1px 2px rgba(0, 0, 0, 0.3));\n",
              "      fill: #FFFFFF;\n",
              "    }\n",
              "  </style>\n",
              "\n",
              "      <script>\n",
              "        const buttonEl =\n",
              "          document.querySelector('#df-7c7193c6-86b8-4474-a8a9-64fea5f1ef33 button.colab-df-convert');\n",
              "        buttonEl.style.display =\n",
              "          google.colab.kernel.accessAllowed ? 'block' : 'none';\n",
              "\n",
              "        async function convertToInteractive(key) {\n",
              "          const element = document.querySelector('#df-7c7193c6-86b8-4474-a8a9-64fea5f1ef33');\n",
              "          const dataTable =\n",
              "            await google.colab.kernel.invokeFunction('convertToInteractive',\n",
              "                                                     [key], {});\n",
              "          if (!dataTable) return;\n",
              "\n",
              "          const docLinkHtml = 'Like what you see? Visit the ' +\n",
              "            '<a target=\"_blank\" href=https://colab.research.google.com/notebooks/data_table.ipynb>data table notebook</a>'\n",
              "            + ' to learn more about interactive tables.';\n",
              "          element.innerHTML = '';\n",
              "          dataTable['output_type'] = 'display_data';\n",
              "          await google.colab.output.renderOutput(dataTable, element);\n",
              "          const docLink = document.createElement('div');\n",
              "          docLink.innerHTML = docLinkHtml;\n",
              "          element.appendChild(docLink);\n",
              "        }\n",
              "      </script>\n",
              "    </div>\n",
              "  </div>\n",
              "  "
            ]
          },
          "metadata": {},
          "execution_count": 180
        }
      ]
    },
    {
      "cell_type": "code",
      "source": [
        "data['cleaned_title'] = data['cleaned_title'].apply(lambda x : '_START_ '+ x + ' _END_')"
      ],
      "metadata": {
        "id": "-cqkIaOP2RbO"
      },
      "execution_count": 181,
      "outputs": []
    },
    {
      "cell_type": "code",
      "source": [
        "for i in range(5):\n",
        "    print(\"Abstract:\",data['cleaned_abstract'][i])\n",
        "    print(\"Title:\",data['cleaned_title'][i])\n",
        "    print(\"\\n\")"
      ],
      "metadata": {
        "colab": {
          "base_uri": "https://localhost:8080/"
        },
        "id": "TM-Lh_7E3Hv4",
        "outputId": "e3c239dd-ab45-4ec3-de20-87a3571bd5f5"
      },
      "execution_count": 182,
      "outputs": [
        {
          "output_type": "stream",
          "name": "stdout",
          "text": [
            "Abstract: analyze link standardization economic growth systematically reviewing leading economics journals leading economic growth researchers articles economic growth related books make following observations article analyzed link standardization economic growth top economics journals representative sample leading researchers economic growth allocated little attention link standardization economic growth typically economic growth textbooks contain standards standardization word indexes findings suggest economic growth theory neglected role standardization\n",
            "Title: _START_ the link between standardization and economic growth bibliometric analysis  _END_\n",
            "\n",
            "\n",
            "Abstract: suggest use continuous numerical risk grades single risk unit cube risks economic domain consider risk ratings economic agents coordinates economic domain economic activity agents economic factors change agents risk ratings cause motion agents economic domain aggregations variables transactions individual agents small volume economic domain establish continuous economic media approximation describes collective variables transactions flows economic domain functions risk coordinates economic variable defines mean risk risk weighted economic variable collective flows economic variables bounded economic domain fluctuate secure risky area back fluctuations flows cause time oscillations macroeconomic variables mean risks economic domain origin business credit cycles derive equations describe evolution collective variables transactions flows economic domain illustration present simple self consistent equations supply demand cycles describe fluctuations supply demand mean risks\n",
            "Title: _START_ business cycles as collective risk fluctuations  _END_\n",
            "\n",
            "\n",
            "Abstract: present macroeconomic model describes evolution macroeconomic variables macroeconomic waves economic space risk ratings economic agents play role coordinates economic space aggregation economic variables like assets investment credits loans economic agents point define corresponding macroeconomic variables functions time coordinates economic space evolution macroeconomic variables determined economic financial transactions economic agents transactions occur economic agents coordinates reflect non local action distance character internal macroeconomic interactions instance buy sell transactions points economic space define dynamics assets point investment point aggregates transactions economic agents point economic space define economic fields functions two coordinates describe dynamics economic fields economic space derive hydrodynamic like equations simple models interactions economic fields derive hydrodynamic like equations closed form obtain wave equations perturbations economic field waves propagate economic space amplitudes grow exponent time may disturb economic stability diversities macroeconomic financial waves economic space simple models uncover importance wave processes macroeconomic modeling forecasting\n",
            "Title: _START_ econophysics of macroeconomics action at distance and waves  _END_\n",
            "\n",
            "\n",
            "Abstract: paper presents macroeconomic model based parallels macroeconomic multi agent systems multi particle systems use risk ratings economic agents coordinates economic space aggregates economic financial variables like investment assets demand credits etc economic agents near point define corresponding macroeconomic variables functions time coordinates economic space parallels multi agent multi particle systems economic space allow describe transition economic kinetic like economic hydrodynamic like approximation derive macroeconomic hydrodynamic like equations economic space economic financial transactions economic agents determine evolution macroeconomic variables paper describes local macroeconomic approximation takes account transactions economic agents coordinates near point economic space describes interaction macroeconomic variables linear differential operators simple model interaction macroeconomic variables demand investment interest rate derive hydrodynamic like equations closed form perturbations macroeconomic variables derive macroeconomic wave equations macroeconomic waves economic space propagate exponential growth amplitude cause irregular time fluctuations macroeconomic variables induce economic crises\n",
            "Title: _START_ econophysics macroeconomic model  _END_\n",
            "\n",
            "\n",
            "Abstract: authors article reviewed scientific literature development russian chinese cooperation field combining economic logistics projects eurasian economic union silk road economic belt opinions russian also chinese experts projects indicated provides expansion vision concept new silk road countries\n",
            "Title: _START_ economic prospects of the russian chinese partnership in the logistics projects of the eurasian economic union and the silk road economic belt scientific literature review  _END_\n",
            "\n",
            "\n"
          ]
        }
      ]
    },
    {
      "cell_type": "code",
      "source": [
        "import matplotlib.pyplot as plt\n",
        "text_word_count = []\n",
        "summary_word_count = []\n",
        "\n",
        "# populate the lists with sentence lengths\n",
        "for i in data['cleaned_abstract']:\n",
        "      text_word_count.append(len(i.split()))\n",
        "\n",
        "for i in data['cleaned_title']:\n",
        "      summary_word_count.append(len(i.split()))\n",
        "\n",
        "length_df = pd.DataFrame({'abstract':text_word_count, 'title':summary_word_count})\n",
        "length_df.hist(bins = 30)\n",
        "plt.show()"
      ],
      "metadata": {
        "colab": {
          "base_uri": "https://localhost:8080/",
          "height": 281
        },
        "id": "hpPcWY053Qs-",
        "outputId": "0a702815-9006-4033-d423-2c5ed7a8885b"
      },
      "execution_count": 183,
      "outputs": [
        {
          "output_type": "display_data",
          "data": {
            "text/plain": [
              "<Figure size 432x288 with 2 Axes>"
            ],
            "image/png": "[encoded data removed]"
          },
          "metadata": {
            "needs_background": "light"
          }
        }
      ]
    },
    {
      "cell_type": "code",
      "source": [
        "max_len_abstract=200 \n",
        "max_len_title=30"
      ],
      "metadata": {
        "id": "mC-3-LYJ3c6C"
      },
      "execution_count": 184,
      "outputs": []
    },
    {
      "cell_type": "code",
      "source": [
        "from sklearn.model_selection import train_test_split\n",
        "x_tr,x_val,y_tr,y_val=train_test_split(data['cleaned_abstract'],data['cleaned_title'],test_size=0.1,random_state=0,shuffle=True)"
      ],
      "metadata": {
        "id": "BvEi7ANl3s3C"
      },
      "execution_count": 185,
      "outputs": []
    },
    {
      "cell_type": "code",
      "source": [
        "print('x_tr shape - ', x_tr.shape)\n",
        "print('y_tr shape - ', y_tr.shape)"
      ],
      "metadata": {
        "id": "loogRwaBX8M0",
        "outputId": "caf2611d-e1a6-481e-da72-19fae0e318d5",
        "colab": {
          "base_uri": "https://localhost:8080/"
        }
      },
      "execution_count": 186,
      "outputs": [
        {
          "output_type": "stream",
          "name": "stdout",
          "text": [
            "x_tr shape -  (90,)\n",
            "y_tr shape -  (90,)\n"
          ]
        }
      ]
    },
    {
      "cell_type": "code",
      "source": [
        "x_tr.head()"
      ],
      "metadata": {
        "id": "E3gNUfNTYHnB",
        "outputId": "045548b4-f36d-4837-b7c9-22dd4e93d1eb",
        "colab": {
          "base_uri": "https://localhost:8080/"
        }
      },
      "execution_count": 187,
      "outputs": [
        {
          "output_type": "execute_result",
          "data": {
            "text/plain": [
              "53    deep neural networks increasingly applied choice analysis showing high predictive power unclear extent researchers interpret economic information dnns paper demonstrates dnns provide economic info...\n",
              "92            propose novel method wasserstein index generation model generate public sentiment index automatically test model effectiveness application generate economic policy uncertainty index showcased\n",
              "78    found human mobility exhibits random patterns following levy flight human movement contains many short flights long flights flights follow power law distribution paper study social economical deve...\n",
              "13    development growth complex tumultuous processes modern economic growth theories identify key determinants economic growth however relative importance determinants remains unknown additional variab...\n",
              "7     growing awareness within economics profession important role narratives play economy even though empirical approaches try quantify economic narratives getting increasingly popular theory even univ...\n",
              "Name: cleaned_abstract, dtype: object"
            ]
          },
          "metadata": {},
          "execution_count": 187
        }
      ]
    },
    {
      "cell_type": "code",
      "source": [
        "y_tr.head()"
      ],
      "metadata": {
        "id": "9TyK02wB_EhO",
        "outputId": "4b2e7ecf-9386-48a4-e7ce-cd055a78712b",
        "colab": {
          "base_uri": "https://localhost:8080/"
        }
      },
      "execution_count": 188,
      "outputs": [
        {
          "output_type": "execute_result",
          "data": {
            "text/plain": [
              "53                            _START_ deep neural networks for choice analysis extracting complete economic information for interpretation  _END_\n",
              "92    _START_ wasserstein index generation model automatic generation of time series index with application to economic policy uncertainty  _END_\n",
              "78                                          _START_ the levy flight of cities analyzing social economical trajectories with auto embedding  _END_\n",
              "13                                                                        _START_ the role of complex analysis in modeling economic growth  _END_\n",
              "7                                                                                                          _START_ narratives in economics  _END_\n",
              "Name: cleaned_title, dtype: object"
            ]
          },
          "metadata": {},
          "execution_count": 188
        }
      ]
    },
    {
      "cell_type": "code",
      "source": [
        "#prepare a tokenizer for abstracts on training data\n",
        "x_tokenizer = Tokenizer()\n",
        "x_tokenizer.fit_on_texts(list(x_tr))\n",
        "\n",
        "#convert text sequences into integer sequences\n",
        "x_tr    =   x_tokenizer.texts_to_sequences(x_tr) \n",
        "x_val   =   x_tokenizer.texts_to_sequences(x_val)\n",
        "\n",
        "#padding zero upto maximum length\n",
        "x_tr    =   pad_sequences(x_tr,  maxlen=max_len_abstract, padding='post') \n",
        "x_val   =   pad_sequences(x_val, maxlen=max_len_abstract, padding='post')\n",
        "\n",
        "x_voc_size   =  len(x_tokenizer.word_index) +1"
      ],
      "metadata": {
        "id": "Aut44bN03xrm"
      },
      "execution_count": 189,
      "outputs": []
    },
    {
      "cell_type": "code",
      "source": [
        "#preparing a tokenizer for title on training data \n",
        "y_tokenizer = Tokenizer()\n",
        "y_tokenizer.fit_on_texts(list(y_tr))\n",
        "\n",
        "#convert summary sequences into integer sequences\n",
        "y_tr    =   y_tokenizer.texts_to_sequences(y_tr) \n",
        "y_val   =   y_tokenizer.texts_to_sequences(y_val) \n",
        "\n",
        "#padding zero upto maximum length\n",
        "y_tr    =   pad_sequences(y_tr, maxlen=max_len_title, padding='post')\n",
        "y_val   =   pad_sequences(y_val, maxlen=max_len_title, padding='post')\n",
        "\n",
        "y_voc_size  =   len(y_tokenizer.word_index) +1"
      ],
      "metadata": {
        "id": "2mi9EDfL36N5"
      },
      "execution_count": 190,
      "outputs": []
    },
    {
      "cell_type": "code",
      "source": [
        "print('x_tr shape - ', x_tr.shape)\n",
        "print('y_tr shape - ', y_tr.shape)"
      ],
      "metadata": {
        "id": "i5qfqujBYVmd",
        "outputId": "f921dd48-2734-4043-b824-1924a0538d03",
        "colab": {
          "base_uri": "https://localhost:8080/"
        }
      },
      "execution_count": 191,
      "outputs": [
        {
          "output_type": "stream",
          "name": "stdout",
          "text": [
            "x_tr shape -  (90, 200)\n",
            "y_tr shape -  (90, 30)\n"
          ]
        }
      ]
    },
    {
      "cell_type": "code",
      "source": [
        "from keras import backend as K \n",
        "import gensim\n",
        "from numpy import *\n",
        "import numpy as np\n",
        "import pandas as pd \n",
        "import re\n",
        "from bs4 import BeautifulSoup\n",
        "from keras.preprocessing.text import Tokenizer \n",
        "from keras.preprocessing.sequence import pad_sequences\n",
        "from nltk.corpus import stopwords\n",
        "from tensorflow.keras.layers import Input, LSTM, Embedding, Dense, Concatenate, TimeDistributed\n",
        "from tensorflow.keras.models import Model\n",
        "from tensorflow.keras.callbacks import EarlyStopping\n",
        "import warnings\n",
        "pd.set_option(\"display.max_colwidth\", 200)\n",
        "warnings.filterwarnings(\"ignore\")\n",
        "\n",
        "K.clear_session()\n",
        "\n",
        "latent_dim = 300\n",
        "embedding_dim=200\n",
        "\n",
        "# Encoder\n",
        "encoder_inputs = Input(shape=(max_len_abstract,))\n",
        "\n",
        "#embedding layer\n",
        "enc_emb =  Embedding(x_voc_size, embedding_dim, trainable=True)(encoder_inputs)\n",
        "\n",
        "#encoder lstm 1\n",
        "encoder_lstm1 = LSTM(latent_dim,return_sequences=True,return_state=True,dropout=0.4,recurrent_dropout=0.4)\n",
        "encoder_output1, state_h1, state_c1 = encoder_lstm1(enc_emb)\n",
        "\n",
        "\n",
        "#encoder lstm 2\n",
        "encoder_lstm2 = LSTM(latent_dim,return_sequences=True,return_state=True,dropout=0.4,recurrent_dropout=0.4)\n",
        "encoder_output2, state_h2, state_c2 = encoder_lstm2(encoder_output1)\n",
        "\n",
        "#encoder lstm 3\n",
        "encoder_lstm3=LSTM(latent_dim, return_state=True, return_sequences=True,dropout=0.4,recurrent_dropout=0.4)\n",
        "encoder_outputs, state_h, state_c= encoder_lstm3(encoder_output2)\n",
        "\n",
        "# Set up the decoder, using `encoder_states` as initial state.\n",
        "decoder_inputs = Input(shape=(None,))\n",
        "\n",
        "#embedding layer\n",
        "dec_emb_layer = Embedding(y_voc_size, embedding_dim,trainable=True)\n",
        "dec_emb = dec_emb_layer(decoder_inputs)\n",
        "\n",
        "decoder_lstm = LSTM(latent_dim, return_sequences=True, return_state=True,dropout=0.4,recurrent_dropout=0.2)\n",
        "decoder_outputs,decoder_fwd_state, decoder_back_state = decoder_lstm(dec_emb,initial_state=[state_h, state_c])\n",
        "\n",
        "#dense layer\n",
        "decoder_dense =  TimeDistributed(Dense(y_voc_size, activation='softmax'))\n",
        "decoder_outputs = decoder_dense(decoder_outputs)\n",
        "\n",
        "# Define the model \n",
        "model = Model([encoder_inputs, decoder_inputs], decoder_outputs)\n",
        "\n",
        "model.summary()"
      ],
      "metadata": {
        "colab": {
          "base_uri": "https://localhost:8080/"
        },
        "id": "-feUzyLn9bEF",
        "outputId": "f47e9c9a-e9d7-40b2-c798-5ec561c64874"
      },
      "execution_count": 192,
      "outputs": [
        {
          "output_type": "stream",
          "name": "stdout",
          "text": [
            "Model: \"model\"\n",
            "__________________________________________________________________________________________________\n",
            " Layer (type)                   Output Shape         Param #     Connected to                     \n",
            "==================================================================================================\n",
            " input_1 (InputLayer)           [(None, 200)]        0           []                               \n",
            "                                                                                                  \n",
            " embedding (Embedding)          (None, 200, 200)     447800      ['input_1[0][0]']                \n",
            "                                                                                                  \n",
            " lstm (LSTM)                    [(None, 200, 300),   601200      ['embedding[0][0]']              \n",
            "                                 (None, 300),                                                     \n",
            "                                 (None, 300)]                                                     \n",
            "                                                                                                  \n",
            " input_2 (InputLayer)           [(None, None)]       0           []                               \n",
            "                                                                                                  \n",
            " lstm_1 (LSTM)                  [(None, 200, 300),   721200      ['lstm[0][0]']                   \n",
            "                                 (None, 300),                                                     \n",
            "                                 (None, 300)]                                                     \n",
            "                                                                                                  \n",
            " embedding_1 (Embedding)        (None, None, 200)    81000       ['input_2[0][0]']                \n",
            "                                                                                                  \n",
            " lstm_2 (LSTM)                  [(None, 200, 300),   721200      ['lstm_1[0][0]']                 \n",
            "                                 (None, 300),                                                     \n",
            "                                 (None, 300)]                                                     \n",
            "                                                                                                  \n",
            " lstm_3 (LSTM)                  [(None, None, 300),  601200      ['embedding_1[0][0]',            \n",
            "                                 (None, 300),                     'lstm_2[0][1]',                 \n",
            "                                 (None, 300)]                     'lstm_2[0][2]']                 \n",
            "                                                                                                  \n",
            " time_distributed (TimeDistribu  (None, None, 405)   121905      ['lstm_3[0][0]']                 \n",
            " ted)                                                                                             \n",
            "                                                                                                  \n",
            "==================================================================================================\n",
            "Total params: 3,295,505\n",
            "Trainable params: 3,295,505\n",
            "Non-trainable params: 0\n",
            "__________________________________________________________________________________________________\n"
          ]
        }
      ]
    },
    {
      "cell_type": "code",
      "source": [
        "model.compile(optimizer='rmsprop', loss='sparse_categorical_crossentropy')"
      ],
      "metadata": {
        "id": "iCu-DeSG4ZM6"
      },
      "execution_count": 193,
      "outputs": []
    },
    {
      "cell_type": "code",
      "source": [
        "es = EarlyStopping(monitor='val_loss', mode='min', verbose=1)"
      ],
      "metadata": {
        "id": "gOcA2vq--QTq"
      },
      "execution_count": 194,
      "outputs": []
    },
    {
      "cell_type": "code",
      "source": [
        "print(y_tr[:,:-1].shape)\n",
        "print(x_tr.shape)"
      ],
      "metadata": {
        "id": "Ys-aAwVzVutz",
        "outputId": "a751b0df-4308-4caa-e19a-4c3fc641ba7c",
        "colab": {
          "base_uri": "https://localhost:8080/"
        }
      },
      "execution_count": 195,
      "outputs": [
        {
          "output_type": "stream",
          "name": "stdout",
          "text": [
            "(90, 29)\n",
            "(90, 200)\n"
          ]
        }
      ]
    },
    {
      "cell_type": "code",
      "source": [
        "history=model.fit([x_tr, y_tr[:,:-1]], y_tr.reshape(y_tr.shape[0],y_tr.shape[1], 1)[:,1:] ,epochs=50,callbacks=[es],batch_size=512, validation_data=([x_val,y_val[:,:-1]], y_val.reshape(y_val.shape[0],y_val.shape[1], 1)[:,1:]))"
      ],
      "metadata": {
        "colab": {
          "base_uri": "https://localhost:8080/"
        },
        "id": "x4g0EnTa-T9g",
        "outputId": "7299c51c-5f30-4872-e83f-0cd78ff6c3ab"
      },
      "execution_count": 196,
      "outputs": [
        {
          "output_type": "stream",
          "name": "stdout",
          "text": [
            "Epoch 1/50\n",
            "1/1 [==============================] - 34s 34s/step - loss: 5.9986 - val_loss: 5.6607\n",
            "Epoch 2/50\n",
            "1/1 [==============================] - 16s 16s/step - loss: 5.7157 - val_loss: 1.9767\n",
            "Epoch 2: early stopping\n"
          ]
        }
      ]
    },
    {
      "cell_type": "code",
      "source": [
        "from matplotlib import pyplot \n",
        "pyplot.plot(history.history['loss'], label='train') \n",
        "pyplot.plot(history.history['val_loss'], label='test') \n",
        "pyplot.legend() \n",
        "pyplot.show()"
      ],
      "metadata": {
        "colab": {
          "base_uri": "https://localhost:8080/",
          "height": 265
        },
        "id": "lotq47xC-XMS",
        "outputId": "4627073d-9e9a-45c1-8571-f4e1e01bb11b"
      },
      "execution_count": 197,
      "outputs": [
        {
          "output_type": "display_data",
          "data": {
            "text/plain": [
              "<Figure size 432x288 with 1 Axes>"
            ],
            "image/png": "[encoded data removed]"
          },
          "metadata": {
            "needs_background": "light"
          }
        }
      ]
    },
    {
      "cell_type": "code",
      "source": [
        "reverse_target_word_index=y_tokenizer.index_word \n",
        "reverse_source_word_index=x_tokenizer.index_word \n",
        "target_word_index=y_tokenizer.word_index"
      ],
      "metadata": {
        "id": "Oc5kkelf-lX7"
      },
      "execution_count": 198,
      "outputs": []
    },
    {
      "cell_type": "code",
      "source": [
        "# Encode the input sequence to get the feature vector\n",
        "encoder_model = Model(inputs=encoder_inputs,outputs=[encoder_outputs, state_h, state_c])\n",
        "\n",
        "# Decoder setup\n",
        "# Below tensors will hold the states of the previous time step\n",
        "decoder_state_input_h = Input(shape=(latent_dim,))\n",
        "decoder_state_input_c = Input(shape=(latent_dim,))\n",
        "decoder_hidden_state_input = Input(shape=(max_len_abstract,latent_dim))\n",
        "\n",
        "# Get the embeddings of the decoder sequence\n",
        "dec_emb2= dec_emb_layer(decoder_inputs) \n",
        "# To predict the next word in the sequence, set the initial states to the states from the previous time step\n",
        "decoder_outputs2, state_h2, state_c2 = decoder_lstm(dec_emb2, initial_state=[decoder_state_input_h, decoder_state_input_c])\n",
        "\n",
        "# A dense softmax layer to generate prob dist. over the target vocabulary\n",
        "decoder_outputs2 = decoder_dense(decoder_outputs2) \n",
        "\n",
        "# Final decoder model\n",
        "decoder_model = Model(\n",
        "    [decoder_inputs] + [decoder_hidden_state_input,decoder_state_input_h, decoder_state_input_c],\n",
        "    [decoder_outputs2] + [state_h2, state_c2])"
      ],
      "metadata": {
        "id": "6JU_wbyo_Dp7"
      },
      "execution_count": 199,
      "outputs": []
    },
    {
      "cell_type": "code",
      "source": [
        "def decode_sequence(input_seq):\n",
        "    # Encode the input as state vectors.\n",
        "    e_out, e_h, e_c = encoder_model.predict(input_seq)\n",
        "\n",
        "    # Generate empty target sequence of length 1.\n",
        "    target_seq = np.zeros((1,1))\n",
        "\n",
        "    # Chose the 'start' word as the first word of the target sequence\n",
        "    target_seq[0, 0] = target_word_index['start']\n",
        "\n",
        "    stop_condition = False\n",
        "    decoded_sentence = ''\n",
        "    while not stop_condition:\n",
        "        output_tokens, h, c = decoder_model.predict([target_seq] + [e_out, e_h, e_c])\n",
        "\n",
        "        # Sample a token\n",
        "        sampled_token_index = np.argmax(output_tokens[0, -1, :])\n",
        "        sampled_token = reverse_target_word_index[sampled_token_index]\n",
        "\n",
        "        if(sampled_token!='end'):\n",
        "            decoded_sentence += ' '+sampled_token\n",
        "\n",
        "            # Exit condition: either hit max length or find stop word.\n",
        "            if (sampled_token == 'end' or len(decoded_sentence.split()) >= (max_len_abstract-1)):\n",
        "                stop_condition = True\n",
        "\n",
        "        # Update the target sequence (of length 1).\n",
        "        target_seq = np.zeros((1,1))\n",
        "        target_seq[0, 0] = sampled_token_index\n",
        "\n",
        "        # Update internal states\n",
        "        e_h, e_c = h, c\n",
        "\n",
        "    return decoded_sentence"
      ],
      "metadata": {
        "id": "CnmgoqxP_HBW"
      },
      "execution_count": 205,
      "outputs": []
    },
    {
      "cell_type": "code",
      "source": [
        "def seq2summary(input_seq):\n",
        "    newString=''\n",
        "    for i in input_seq:\n",
        "      if((i!=0 and i!=target_word_index['start']) and i!=target_word_index['end']):\n",
        "        newString=newString+reverse_target_word_index[i]+' '\n",
        "    return newString\n",
        "\n",
        "def seq2text(input_seq):\n",
        "    newString=''\n",
        "    for i in input_seq:\n",
        "      if(i!=0):\n",
        "        newString=newString+reverse_source_word_index[i]+' '\n",
        "    return newString"
      ],
      "metadata": {
        "id": "Q_IZI_gv_bln"
      },
      "execution_count": 206,
      "outputs": []
    },
    {
      "cell_type": "code",
      "source": [
        "for i in range(0,5):\n",
        "    print(\"Review:\", seq2text(x_tr[i]))\n",
        "    print(\"Original summary:\", seq2text(y_tr[i]))\n",
        "    print(\"Predicted summary:\",decode_sequence(x_tr[i].reshape(1,max_len_abstract)))\n",
        "    print(\"\\n\")"
      ],
      "metadata": {
        "colab": {
          "base_uri": "https://localhost:8080/",
          "height": 393
        },
        "id": "IbD-qBwD_eWe",
        "outputId": "fc750d5b-0d00-4709-8c6d-47e71dafe070"
      },
      "execution_count": 207,
      "outputs": [
        {
          "output_type": "stream",
          "name": "stdout",
          "text": [
            "Review: deep neural networks increasingly applied choice analysis showing high predictive power unclear extent researchers interpret economic information dnns paper demonstrates dnns provide economic information complete classical discrete choice models economic information includes choice predictions choice probabilities market shares substitution patterns alternatives social welfare probability derivatives elasticities marginal rates substitution heterogeneous values time unlike dcms dnns automatically learn utility function reveal behavioral patterns prespecified domain experts however economic information obtained dnns unreliable three challenges associated automatic learning capacity high sensitivity hyperparameters model non identification local irregularity demonstrate strength challenges dnns estimated dnns using stated preference survey extracted full list economic information dnns compared dcms found economic information either aggregated trainings population reliable disaggregate information individual observations trainings even simple hyperparameter searching significantly improve reliability economic information extracted dnns future studies investigate regularizations dnn architectures better optimization algorithms robust dnn training methods address dnns three challenges provide reliable economic information dnn based choice models \n",
            "Original summary: economic well however local policy public data human capabilities model methods policy theories growth \n"
          ]
        },
        {
          "output_type": "error",
          "ename": "KeyError",
          "evalue": "ignored",
          "traceback": [
            "\u001b[0;31m---------------------------------------------------------------------------\u001b[0m",
            "\u001b[0;31mKeyError\u001b[0m                                  Traceback (most recent call last)",
            "\u001b[0;32m<ipython-input-207-20b9887c1af0>\u001b[0m in \u001b[0;36m<module>\u001b[0;34m()\u001b[0m\n\u001b[1;32m      2\u001b[0m     \u001b[0mprint\u001b[0m\u001b[0;34m(\u001b[0m\u001b[0;34m\"Review:\"\u001b[0m\u001b[0;34m,\u001b[0m \u001b[0mseq2text\u001b[0m\u001b[0;34m(\u001b[0m\u001b[0mx_tr\u001b[0m\u001b[0;34m[\u001b[0m\u001b[0mi\u001b[0m\u001b[0;34m]\u001b[0m\u001b[0;34m)\u001b[0m\u001b[0;34m)\u001b[0m\u001b[0;34m\u001b[0m\u001b[0;34m\u001b[0m\u001b[0m\n\u001b[1;32m      3\u001b[0m     \u001b[0mprint\u001b[0m\u001b[0;34m(\u001b[0m\u001b[0;34m\"Original summary:\"\u001b[0m\u001b[0;34m,\u001b[0m \u001b[0mseq2text\u001b[0m\u001b[0;34m(\u001b[0m\u001b[0my_tr\u001b[0m\u001b[0;34m[\u001b[0m\u001b[0mi\u001b[0m\u001b[0;34m]\u001b[0m\u001b[0;34m)\u001b[0m\u001b[0;34m)\u001b[0m\u001b[0;34m\u001b[0m\u001b[0;34m\u001b[0m\u001b[0m\n\u001b[0;32m----> 4\u001b[0;31m     \u001b[0mprint\u001b[0m\u001b[0;34m(\u001b[0m\u001b[0;34m\"Predicted summary:\"\u001b[0m\u001b[0;34m,\u001b[0m\u001b[0mdecode_sequence\u001b[0m\u001b[0;34m(\u001b[0m\u001b[0mx_tr\u001b[0m\u001b[0;34m[\u001b[0m\u001b[0mi\u001b[0m\u001b[0;34m]\u001b[0m\u001b[0;34m.\u001b[0m\u001b[0mreshape\u001b[0m\u001b[0;34m(\u001b[0m\u001b[0;36m1\u001b[0m\u001b[0;34m,\u001b[0m\u001b[0mmax_len_abstract\u001b[0m\u001b[0;34m)\u001b[0m\u001b[0;34m)\u001b[0m\u001b[0;34m)\u001b[0m\u001b[0;34m\u001b[0m\u001b[0;34m\u001b[0m\u001b[0m\n\u001b[0m\u001b[1;32m      5\u001b[0m     \u001b[0mprint\u001b[0m\u001b[0;34m(\u001b[0m\u001b[0;34m\"\\n\"\u001b[0m\u001b[0;34m)\u001b[0m\u001b[0;34m\u001b[0m\u001b[0;34m\u001b[0m\u001b[0m\n",
            "\u001b[0;32m<ipython-input-205-753eaa5180f3>\u001b[0m in \u001b[0;36mdecode_sequence\u001b[0;34m(input_seq)\u001b[0m\n\u001b[1;32m     16\u001b[0m         \u001b[0;31m# Sample a token\u001b[0m\u001b[0;34m\u001b[0m\u001b[0;34m\u001b[0m\u001b[0;34m\u001b[0m\u001b[0m\n\u001b[1;32m     17\u001b[0m         \u001b[0msampled_token_index\u001b[0m \u001b[0;34m=\u001b[0m \u001b[0mnp\u001b[0m\u001b[0;34m.\u001b[0m\u001b[0margmax\u001b[0m\u001b[0;34m(\u001b[0m\u001b[0moutput_tokens\u001b[0m\u001b[0;34m[\u001b[0m\u001b[0;36m0\u001b[0m\u001b[0;34m,\u001b[0m \u001b[0;34m-\u001b[0m\u001b[0;36m1\u001b[0m\u001b[0;34m,\u001b[0m \u001b[0;34m:\u001b[0m\u001b[0;34m]\u001b[0m\u001b[0;34m)\u001b[0m\u001b[0;34m\u001b[0m\u001b[0;34m\u001b[0m\u001b[0m\n\u001b[0;32m---> 18\u001b[0;31m         \u001b[0msampled_token\u001b[0m \u001b[0;34m=\u001b[0m \u001b[0mreverse_target_word_index\u001b[0m\u001b[0;34m[\u001b[0m\u001b[0msampled_token_index\u001b[0m\u001b[0;34m]\u001b[0m\u001b[0;34m\u001b[0m\u001b[0;34m\u001b[0m\u001b[0m\n\u001b[0m\u001b[1;32m     19\u001b[0m \u001b[0;34m\u001b[0m\u001b[0m\n\u001b[1;32m     20\u001b[0m         \u001b[0;32mif\u001b[0m\u001b[0;34m(\u001b[0m\u001b[0msampled_token\u001b[0m\u001b[0;34m!=\u001b[0m\u001b[0;34m'end'\u001b[0m\u001b[0;34m)\u001b[0m\u001b[0;34m:\u001b[0m\u001b[0;34m\u001b[0m\u001b[0;34m\u001b[0m\u001b[0m\n",
            "\u001b[0;31mKeyError\u001b[0m: 0"
          ]
        }
      ]
    },
    {
      "cell_type": "code",
      "source": [
        ""
      ],
      "metadata": {
        "id": "T0C5adbE_iHO"
      },
      "execution_count": null,
      "outputs": []
    }
  ]
}