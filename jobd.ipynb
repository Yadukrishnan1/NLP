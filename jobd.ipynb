{
  "nbformat": 4,
  "nbformat_minor": 0,
  "metadata": {
    "colab": {
      "name": "jobd.ipynb",
      "provenance": [],
      "collapsed_sections": [],
      "mount_file_id": "1IBi6-na9uqmuNurbsvfzYMIUz13FPjtn",
      "authorship_tag": "ABX9TyPDySOi57u+sQCy020s3z/A",
      "include_colab_link": true
    },
    "kernelspec": {
      "name": "python3",
      "display_name": "Python 3"
    },
    "language_info": {
      "name": "python"
    }
  },
  "cells": [
    {
      "cell_type": "markdown",
      "metadata": {
        "id": "view-in-github",
        "colab_type": "text"
      },
      "source": [
        "<a href=\"https://colab.research.google.com/github/Yadukrishnan1/NLP/blob/main/jobd.ipynb\" target=\"_parent\"><img src=\"https://colab.research.google.com/assets/colab-badge.svg\" alt=\"Open In Colab\"/></a>"
      ]
    },
    {
      "cell_type": "code",
      "metadata": {
        "id": "yLlJ1UfF2XPu"
      },
      "source": [
        "! pip install fasttext;\n",
        "! pip install numpy_ml;"
      ],
      "execution_count": null,
      "outputs": []
    },
    {
      "cell_type": "code",
      "metadata": {
        "id": "xbIA_8L4gotw"
      },
      "source": [
        "import pandas as pd\n",
        "import numpy as np\n",
        "import matplotlib.pyplot as plt \n",
        "\n",
        "import fasttext\n",
        "import bz2\n",
        "import csv\n",
        "from sklearn.metrics import roc_auc_score\n",
        "import os"
      ],
      "execution_count": 3,
      "outputs": []
    },
    {
      "cell_type": "code",
      "metadata": {
        "colab": {
          "base_uri": "https://localhost:8080/"
        },
        "id": "A2WvGtpSdPsV",
        "outputId": "79dc9f27-1828-4596-f2e7-55fc322919ac"
      },
      "source": [
        "print(os.listdir(\"/content/drive/MyDrive/Colab Notebooks/Natural_lang_process/\"))\n",
        "path='\"/content/drive/MyDrive/Colab Notebooks/Natural_lang_process/'"
      ],
      "execution_count": 4,
      "outputs": [
        {
          "output_type": "stream",
          "text": [
            "['jobd.ipynb', 'test.ft.txt', 'train.ft.txt', 'job_train.txt', 'amazon_reviews.ipynb']\n"
          ],
          "name": "stdout"
        }
      ]
    },
    {
      "cell_type": "code",
      "metadata": {
        "id": "4TNW0WwzyV2F"
      },
      "source": [
        "with open(\"/content/drive/MyDrive/Colab Notebooks/Natural_lang_process/job_train.txt\",\"r\") as myfile:\n",
        "  data = myfile.readlines()\n",
        "\n",
        "stripped=[]\n",
        "for line in data:\n",
        "  stripped.append(line.strip())\n",
        "\n",
        "comb=''.join(stripped)\n",
        "\n",
        "# print(len(stripped), 'number of records in the training set') \n",
        "\n",
        "# data_df = pd.DataFrame(data)\n",
        "# data_df.to_csv(\"train.txt\", index=False, sep=' ', header=False, quoting=csv.QUOTE_NONE, quotechar=\"\", escapechar=\" \")"
      ],
      "execution_count": 90,
      "outputs": []
    },
    {
      "cell_type": "code",
      "metadata": {
        "colab": {
          "base_uri": "https://localhost:8080/",
          "height": 83
        },
        "id": "cjJp5IlwV-m2",
        "outputId": "01b4ae39-2a86-4bef-90be-ddc3e3a945d8"
      },
      "source": [
        "comb"
      ],
      "execution_count": 101,
      "outputs": [
        {
          "output_type": "execute_result",
          "data": {
            "application/vnd.google.colaboratory.intrinsic+json": {
              "type": "string"
            },
            "text/plain": [
              "\"DESCRIPTIONWork at the intersection of data science and economics.Amazon's Advertising Impact Team is looking for a Data Scientist to help and be part of a team to put cutting-edge economic and data science advertising research into production. We are looking for a unique individual who is interested in bigger picture strategic thinking and the passion for making business impact through building science and analytical solutions.This team is responsible for modeling short-term and long-term customer behavior in relation to advertising using state of the art econometrics and machine learning techniques as well as sizing and running experiments. This role requires strong business and science acumen to translate the business requirements into research prototype, hands-on ability to partner with engineers and implement changes in production, and excellent communication skills to present results to some of the most senior leaders of the company.If you have a background in economics, statistics, or mathematics and have a passion for solving large, impactful problems, this is the job for you.About Amazon's advertising business:Amazon is investing heavily in building a world class advertising business and we are responsible for defining and delivering a collection of self-service performance advertising products that drive discovery and sales. Our products are strategically important to our Retail and Marketplace businesses driving long term growth. We deliver billions of ad impressions and millions of clicks daily and are breaking fresh ground to create world-class products. We are highly motivated, collaborative and fun-loving with an entrepreneurial spirit and bias for action. With a broad mandate to experiment and innovate, we are growing at an unprecedented rate with a seemingly endless range of new opportunities.Sponsored Products helps merchants, retail vendors, and brand owners succeed via native advertising that grows incremental sales of their products sold through Amazon. The Sponsored Products Ad Marketplace team optimizes the systems and ad placements to match demand with supply using a combination of machine learning, big data analytics, ultra-low latency high-volume engineering systems, and quantitative product focus. Our goals are to help buyers discover new products they love, be the most efficient way for Advertisers to meet their business objectives and continue to build a big, sustainable business that helps Amazon continuously innovate on behalf of all customers.BASIC QUALIFICATIONS· Bachelor's degree in Statistics, Applied Math, Economics, Computer Science, or a related quantitative field with at least 5 years of working experience as a Data Scientist.· Experience applying various econometric and machine learning techniques, and understanding their interpretation and performance.· Proficient with data analysis and modeling software such as Spark, R, Scala, etc.· Proficient with using scripting language such as Python.· Experienced in handling large data sets using SQL and databases in a business environment.· Excellent verbal and written communication.· Strong troubleshooting and problem solving skills.· Thrive in a fast-paced, innovative environment.PREFERRED QUALIFICATIONS· Master’s degree in Statistics, Applied Math, Economics, Computer Science, or a related quantitative field with at least 2 years of working experience as a Data Scientist.· Experience working with econometric models on causal impact questions.· Excellent writing skills for both technical and business-facing documents.Amazon is committed to a diverse and inclusive workplace. Amazon is an equal opportunity employer and does not discriminate on the basis of race, national origin, gender, gender identity, sexual orientation, protected veteran status, disability, age, or other legally protected status. For individuals with disabilities who would like to request an accommodation, please visit https://www.amazon.jobs/en/disability/us.\""
            ]
          },
          "metadata": {
            "tags": []
          },
          "execution_count": 101
        }
      ]
    },
    {
      "cell_type": "code",
      "metadata": {
        "id": "tpbndHHMjGcd"
      },
      "source": [
        ""
      ],
      "execution_count": null,
      "outputs": []
    }
  ]
}